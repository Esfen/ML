{
 "cells": [
  {
   "cell_type": "code",
   "execution_count": 2,
   "metadata": {
    "collapsed": false
   },
   "outputs": [
    {
     "data": {
      "text/html": [
       "<div>\n",
       "<table border=\"1\" class=\"dataframe\">\n",
       "  <thead>\n",
       "    <tr style=\"text-align: right;\">\n",
       "      <th></th>\n",
       "      <th>Survived</th>\n",
       "      <th>Pclass</th>\n",
       "      <th>Name</th>\n",
       "      <th>Sex</th>\n",
       "      <th>Age</th>\n",
       "      <th>SibSp</th>\n",
       "      <th>Parch</th>\n",
       "      <th>Ticket</th>\n",
       "      <th>Fare</th>\n",
       "      <th>Cabin</th>\n",
       "      <th>Embarked</th>\n",
       "    </tr>\n",
       "    <tr>\n",
       "      <th>PassengerId</th>\n",
       "      <th></th>\n",
       "      <th></th>\n",
       "      <th></th>\n",
       "      <th></th>\n",
       "      <th></th>\n",
       "      <th></th>\n",
       "      <th></th>\n",
       "      <th></th>\n",
       "      <th></th>\n",
       "      <th></th>\n",
       "      <th></th>\n",
       "    </tr>\n",
       "  </thead>\n",
       "  <tbody>\n",
       "    <tr>\n",
       "      <th>1</th>\n",
       "      <td>0</td>\n",
       "      <td>3</td>\n",
       "      <td>Braund, Mr. Owen Harris</td>\n",
       "      <td>male</td>\n",
       "      <td>22.0</td>\n",
       "      <td>1</td>\n",
       "      <td>0</td>\n",
       "      <td>A/5 21171</td>\n",
       "      <td>7.2500</td>\n",
       "      <td>NaN</td>\n",
       "      <td>S</td>\n",
       "    </tr>\n",
       "    <tr>\n",
       "      <th>2</th>\n",
       "      <td>1</td>\n",
       "      <td>1</td>\n",
       "      <td>Cumings, Mrs. John Bradley (Florence Briggs Th...</td>\n",
       "      <td>female</td>\n",
       "      <td>38.0</td>\n",
       "      <td>1</td>\n",
       "      <td>0</td>\n",
       "      <td>PC 17599</td>\n",
       "      <td>71.2833</td>\n",
       "      <td>C85</td>\n",
       "      <td>C</td>\n",
       "    </tr>\n",
       "    <tr>\n",
       "      <th>3</th>\n",
       "      <td>1</td>\n",
       "      <td>3</td>\n",
       "      <td>Heikkinen, Miss. Laina</td>\n",
       "      <td>female</td>\n",
       "      <td>26.0</td>\n",
       "      <td>0</td>\n",
       "      <td>0</td>\n",
       "      <td>STON/O2. 3101282</td>\n",
       "      <td>7.9250</td>\n",
       "      <td>NaN</td>\n",
       "      <td>S</td>\n",
       "    </tr>\n",
       "    <tr>\n",
       "      <th>4</th>\n",
       "      <td>1</td>\n",
       "      <td>1</td>\n",
       "      <td>Futrelle, Mrs. Jacques Heath (Lily May Peel)</td>\n",
       "      <td>female</td>\n",
       "      <td>35.0</td>\n",
       "      <td>1</td>\n",
       "      <td>0</td>\n",
       "      <td>113803</td>\n",
       "      <td>53.1000</td>\n",
       "      <td>C123</td>\n",
       "      <td>S</td>\n",
       "    </tr>\n",
       "    <tr>\n",
       "      <th>5</th>\n",
       "      <td>0</td>\n",
       "      <td>3</td>\n",
       "      <td>Allen, Mr. William Henry</td>\n",
       "      <td>male</td>\n",
       "      <td>35.0</td>\n",
       "      <td>0</td>\n",
       "      <td>0</td>\n",
       "      <td>373450</td>\n",
       "      <td>8.0500</td>\n",
       "      <td>NaN</td>\n",
       "      <td>S</td>\n",
       "    </tr>\n",
       "  </tbody>\n",
       "</table>\n",
       "</div>"
      ],
      "text/plain": [
       "             Survived  Pclass  \\\n",
       "PassengerId                     \n",
       "1                   0       3   \n",
       "2                   1       1   \n",
       "3                   1       3   \n",
       "4                   1       1   \n",
       "5                   0       3   \n",
       "\n",
       "                                                          Name     Sex   Age  \\\n",
       "PassengerId                                                                    \n",
       "1                                      Braund, Mr. Owen Harris    male  22.0   \n",
       "2            Cumings, Mrs. John Bradley (Florence Briggs Th...  female  38.0   \n",
       "3                                       Heikkinen, Miss. Laina  female  26.0   \n",
       "4                 Futrelle, Mrs. Jacques Heath (Lily May Peel)  female  35.0   \n",
       "5                                     Allen, Mr. William Henry    male  35.0   \n",
       "\n",
       "             SibSp  Parch            Ticket     Fare Cabin Embarked  \n",
       "PassengerId                                                          \n",
       "1                1      0         A/5 21171   7.2500   NaN        S  \n",
       "2                1      0          PC 17599  71.2833   C85        C  \n",
       "3                0      0  STON/O2. 3101282   7.9250   NaN        S  \n",
       "4                1      0            113803  53.1000  C123        S  \n",
       "5                0      0            373450   8.0500   NaN        S  "
      ]
     },
     "execution_count": 2,
     "metadata": {},
     "output_type": "execute_result"
    }
   ],
   "source": [
    "import numpy as np\n",
    "import pandas as pd\n",
    "import matplotlib.pyplot as plt\n",
    "\n",
    "from sklearn import tree, grid_search\n",
    "from sklearn.tree import DecisionTreeClassifier, export_graphviz\n",
    "from sklearn.ensemble import RandomForestClassifier\n",
    "from sklearn.model_selection import train_test_split, cross_val_score\n",
    "from sklearn.grid_search import GridSearchCV\n",
    "from sklearn.metrics import classification_report\n",
    "\n",
    "%matplotlib inline\n",
    "\n",
    "df = pd.read_csv('C:\\\\titanic_3.csv', index_col='PassengerId') # загрузка данных\n",
    "df.head()"
   ]
  },
  {
   "cell_type": "code",
   "execution_count": 5,
   "metadata": {
    "collapsed": false
   },
   "outputs": [
    {
     "name": "stdout",
     "output_type": "stream",
     "text": [
      "male    577\n",
      "0       468\n",
      "1       109\n",
      "dtype: int64\n",
      "female    314\n",
      "1         233\n",
      "0          81\n",
      "dtype: int64\n"
     ]
    }
   ],
   "source": [
    "data1 = df[[\"Survived\", \"Sex\"]] # Выбор нужных столбцов\n",
    "male = data1[data1['Sex'] == 'male'] # мужчины\n",
    "female = data1[data1['Sex'] == 'female'] # женщины\n",
    "\n",
    "print(male.stack().value_counts())\n",
    "print(female.stack().value_counts())\n"
   ]
  },
  {
   "cell_type": "code",
   "execution_count": 8,
   "metadata": {
    "collapsed": false
   },
   "outputs": [
    {
     "data": {
      "image/png": "[encoded data removed]",
      "text/plain": [
       "<matplotlib.figure.Figure at 0xfcf36330f0>"
      ]
     },
     "metadata": {},
     "output_type": "display_data"
    },
    {
     "data": {
      "image/png": "[encoded data removed]",
      "text/plain": [
       "<matplotlib.figure.Figure at 0xfcf47d63c8>"
      ]
     },
     "metadata": {},
     "output_type": "display_data"
    }
   ],
   "source": [
    "labels = ['Survived' , 'Not survived']\n",
    "sizes_m = [109, 468]\n",
    "sizes_f = [233, 81]\n",
    "explode = (0,0)\n",
    "\n",
    "fig_m, ax_m = plt.subplots()\n",
    "plt.title('Male')\n",
    "ax_m.pie(sizes_m, explode=explode, labels=labels, autopct='%1.1f%%',\n",
    "        shadow=True, startangle=90)\n",
    "ax_m.axis('equal')\n",
    "fig_f, ax_f = plt.subplots()\n",
    "plt.title('Female')\n",
    "ax_f.pie(sizes_f, explode=explode, labels=labels, autopct='%1.1f%%',\n",
    "        shadow=True, startangle=90)\n",
    "ax_f.axis('equal')\n",
    "plt.show()"
   ]
  },
  {
   "cell_type": "markdown",
   "metadata": {},
   "source": [
    "Процент выживших среди женщин - 74.2, среди мужчин - всего 18.9. Видимо, это объясняется тем, что женщин спасали в первую очередь."
   ]
  },
  {
   "cell_type": "code",
   "execution_count": 10,
   "metadata": {
    "collapsed": false
   },
   "outputs": [
    {
     "name": "stdout",
     "output_type": "stream",
     "text": [
      "first\n",
      "1    352\n",
      "0     80\n",
      "dtype: int64\n",
      "second\n",
      "2    184\n",
      "0     97\n",
      "1     87\n",
      "dtype: int64\n",
      "third\n",
      "3    491\n",
      "0    372\n",
      "1    119\n",
      "dtype: int64\n"
     ]
    }
   ],
   "source": [
    "data2 = df[[\"Survived\", \"Pclass\"]] # Выбор нужных столбцов\n",
    "first = data2[data2['Pclass'] == 1] # 1й класс\n",
    "second = data2[data2['Pclass'] == 2] # 2й класс\n",
    "third = data2[data2['Pclass'] == 3] # 3й класс\n",
    "\n",
    "print('first') \n",
    "print(first.stack().value_counts())\n",
    "print('second')\n",
    "print(second.stack().value_counts())\n",
    "print('third')\n",
    "print(third.stack().value_counts())"
   ]
  },
  {
   "cell_type": "code",
   "execution_count": 13,
   "metadata": {
    "collapsed": false
   },
   "outputs": [
    {
     "data": {
      "image/png": "[encoded data removed]",
      "text/plain": [
       "<matplotlib.figure.Figure at 0xfcf3707dd8>"
      ]
     },
     "metadata": {},
     "output_type": "display_data"
    },
    {
     "data": {
      "image/png": "[encoded data removed]",
      "text/plain": [
       "<matplotlib.figure.Figure at 0xfcf34c0518>"
      ]
     },
     "metadata": {},
     "output_type": "display_data"
    },
    {
     "data": {
      "image/png": "[encoded data removed]",
      "text/plain": [
       "<matplotlib.figure.Figure at 0xfcf4af8f60>"
      ]
     },
     "metadata": {},
     "output_type": "display_data"
    }
   ],
   "source": [
    "labels = ['Survived' , 'Not survived']\n",
    "sizes_1 = [136, 80] # на самом деле выживших 136 - он почему-то их складывает\n",
    "sizes_2 = [87, 97]\n",
    "sizes_3 = [119, 372]\n",
    "explode = (0,0)\n",
    "\n",
    "fig_1, ax_1 = plt.subplots()\n",
    "plt.title('1st')\n",
    "ax_1.pie(sizes_1, explode=explode, labels=labels, autopct='%1.1f%%',\n",
    "        shadow=True, startangle=90)\n",
    "ax_1.axis('equal')\n",
    "fig_2, ax_2 = plt.subplots()\n",
    "plt.title('2nd')\n",
    "ax_2.pie(sizes_2, explode=explode, labels=labels, autopct='%1.1f%%',\n",
    "        shadow=True, startangle=90)\n",
    "ax_2.axis('equal')\n",
    "fig_3, ax_3 = plt.subplots()\n",
    "plt.title('3rd')\n",
    "ax_3.pie(sizes_3, explode=explode, labels=labels, autopct='%1.1f%%',\n",
    "        shadow=True, startangle=90)\n",
    "ax_3.axis('equal')\n",
    "plt.show()"
   ]
  },
  {
   "cell_type": "markdown",
   "metadata": {},
   "source": [
    "Среди пассажиров первого класса выживших несколько больше, среди второго - немного меньше, в тетьем выжило чуть меньше четверти пассажиров. Такой маленький процент в третьем классе может объяснятся тем, что туда относится большая часть обсуживающего персонала, в том числе и команды  корабля."
   ]
  },
  {
   "cell_type": "code",
   "execution_count": 14,
   "metadata": {
    "collapsed": true
   },
   "outputs": [],
   "source": [
    "fares = df[[\"Pclass\", \"Fare\"]]\n",
    "cl1 = fares[fares[\"Pclass\"] == 1]\n",
    "cl2 = fares[fares[\"Pclass\"] == 2]\n",
    "cl3 = fares[fares[\"Pclass\"] == 3]\n",
    "\n",
    "price_1 = cl1[\"Fare\"].tolist()\n",
    "price_2 = cl2[\"Fare\"].tolist()\n",
    "price_3 = cl3[\"Fare\"].tolist()"
   ]
  },
  {
   "cell_type": "code",
   "execution_count": 15,
   "metadata": {
    "collapsed": false
   },
   "outputs": [
    {
     "data": {
      "image/png": "[encoded data removed]",
      "text/plain": [
       "<matplotlib.figure.Figure at 0xfcf3707e48>"
      ]
     },
     "metadata": {},
     "output_type": "display_data"
    }
   ],
   "source": [
    "fig, ax = plt.subplots()\n",
    "ax.plot(np.sort(price_1), label='1st Class')\n",
    "ax.plot(np.sort(price_2), label='2nd Class')\n",
    "ax.plot(np.sort(price_3), label='3rd Class')\n",
    "ax.set_xlabel('Passenger')\n",
    "ax.set_ylabel('Price')\n",
    "legend = ax.legend(loc='upper right', shadow=True)\n",
    "frame = legend.get_frame()\n",
    "frame.set_facecolor('0.90')\n",
    "for label in legend.get_texts():\n",
    "    label.set_fontsize('large')\n",
    "for label in legend.get_lines():\n",
    "    label.set_linewidth(1.5)\n",
    "plt.show()"
   ]
  },
  {
   "cell_type": "markdown",
   "metadata": {},
   "source": [
    "Стоимтость билетов 1>2>3, что довольно логично. В третьем классе много билетов стоимостью 0 - это, видимо, члены команды и обслуживающий персонал."
   ]
  },
  {
   "cell_type": "code",
   "execution_count": 18,
   "metadata": {
    "collapsed": false
   },
   "outputs": [
    {
     "name": "stdout",
     "output_type": "stream",
     "text": [
      "[0.36885245901639346, 0.1574074074074074, 0.13544668587896252]\n",
      "[0.9680851063829787, 0.9210526315789473, 0.5]\n"
     ]
    }
   ],
   "source": [
    "data2 = df[['Survived', 'Sex', 'Pclass']]\n",
    "\n",
    "male = data2[data2['Sex']=='male'] \n",
    "male_class = []\n",
    "for i in [1, 2, 3]:\n",
    "    male_class.append(male[male['Pclass'] == i]) \n",
    "male_survived_class = []\n",
    "for i in [0, 1, 2]:\n",
    "    male_survived_class.append(male_class[i][male_class[i][\"Survived\"] == 1]) \n",
    "male_results = []\n",
    "for i in range(3):\n",
    "    male_results.append(len(male_survived_class[i]) / len(male_class[i])) # Отношение по классам\n",
    "    \n",
    "female = data2[data2['Sex']=='female']\n",
    "female_class = []\n",
    "for i in [1, 2, 3]:\n",
    "    female_class.append(female[female['Pclass'] == i])\n",
    "female_survived_class = []\n",
    "for i in [0, 1, 2]:\n",
    "    female_survived_class.append(female_class[i][female_class[i][\"Survived\"] == 1])\n",
    "female_results = []\n",
    "for i in range(3):\n",
    "    female_results.append(len(female_survived_class[i]) / len(female_class[i]))\n",
    "    \n",
    "print(male_results)\n",
    "print(female_results)"
   ]
  },
  {
   "cell_type": "code",
   "execution_count": 27,
   "metadata": {
    "collapsed": false
   },
   "outputs": [
    {
     "data": {
      "image/png": "[encoded data removed]",
      "text/plain": [
       "<matplotlib.figure.Figure at 0xfcf37a2e80>"
      ]
     },
     "metadata": {},
     "output_type": "display_data"
    }
   ],
   "source": [
    "ind = np.arange(1,4,1)\n",
    "width = 0.35\n",
    "\n",
    "fig, ax = plt.subplots()\n",
    "rects1 = ax.bar(ind, male_results, width, color='g')\n",
    "rects2 = ax.bar(ind + width, female_results, width, color='y')\n",
    "\n",
    "ax.set_ylabel('Probability to survive')\n",
    "ax.set_title('Probability to survive across social class and gender')\n",
    "ax.set_xticks(ind + width / 2)\n",
    "ax.set_xticklabels(('1st Class', '2nd Class', '3rd Class'))\n",
    "\n",
    "ax.legend((rects1[0], rects2[0]), ('Male', 'Female'))\n",
    "plt.show()"
   ]
  },
  {
   "cell_type": "markdown",
   "metadata": {},
   "source": [
    "Мужчинам выживалось хуже, вне зависимости от класса. Что, в общем, было видно и раньше"
   ]
  },
  {
   "cell_type": "code",
   "execution_count": 53,
   "metadata": {
    "collapsed": false
   },
   "outputs": [],
   "source": [
    "new_data = pd.DataFrame(df, columns=['Survived', 'Pclass', 'Sex', 'Age', 'Fare', 'SibSp', 'Parch']) # только полезные столбцы\n",
    "new_data['Sex'] = new_data['Sex'].map({'female': 0, 'male':1}).astype(int) # пол в виде 0-1\n",
    "new_data.fillna(new_data['Age'].mean(skipna=True), inplace=True)\n",
    "# ну как-то так"
   ]
  },
  {
   "cell_type": "code",
   "execution_count": 54,
   "metadata": {
    "collapsed": false
   },
   "outputs": [
    {
     "name": "stdout",
     "output_type": "stream",
     "text": [
      "(623, 6) (268, 6) (623,) (268,)\n"
     ]
    }
   ],
   "source": [
    "columns = ['Pclass', 'Sex', 'Age', 'Fare', 'SibSp', 'Parch']\n",
    "x, y = new_data[columns], new_data['Survived']\n",
    "x_train, x_test, y_train, y_test = train_test_split(x, y, test_size=0.3)\n",
    "print(x_train.shape, x_test.shape, y_train.shape, y_test.shape)"
   ]
  },
  {
   "cell_type": "code",
   "execution_count": 59,
   "metadata": {
    "collapsed": false
   },
   "outputs": [
    {
     "name": "stdout",
     "output_type": "stream",
     "text": [
      "{'max_depth': 7, 'min_samples_leaf': 3, 'min_samples_split': 7}\n"
     ]
    }
   ],
   "source": [
    "parameter = {'max_depth': np.arange(2, 10),'min_samples_leaf': np.arange(1, 10),'min_samples_split': np.arange(2, 10)}\n",
    "search_params = GridSearchCV(DecisionTreeClassifier(), parameter)\n",
    "search_params.fit(x_train, y_train)\n",
    "print(search_params.best_params_) # найдем параметры для лучшего дерева"
   ]
  },
  {
   "cell_type": "code",
   "execution_count": 61,
   "metadata": {
    "collapsed": false
   },
   "outputs": [
    {
     "name": "stdout",
     "output_type": "stream",
     "text": [
      "             precision    recall  f1-score   support\n",
      "\n",
      "          0       0.87      0.77      0.82       171\n",
      "          1       0.67      0.80      0.73        97\n",
      "\n",
      "avg / total       0.80      0.78      0.79       268\n",
      "\n"
     ]
    }
   ],
   "source": [
    "tree = DecisionTreeClassifier(max_depth = 7, min_samples_leaf = 3, min_samples_split = 7)\n",
    "tree.fit(x_train, y_train)\n",
    "est_predict = tree.predict(x_test)\n",
    "print(classification_report(y_test, est_predict))"
   ]
  },
  {
   "cell_type": "code",
   "execution_count": 72,
   "metadata": {
    "collapsed": false
   },
   "outputs": [
    {
     "name": "stdout",
     "output_type": "stream",
     "text": [
      "{'n_estimators': 27}\n"
     ]
    }
   ],
   "source": [
    "parameter = {'n_estimators': np.arange(1, 50)}\n",
    "search_params1 = GridSearchCV(RandomForestClassifier(), parameter)\n",
    "search_params1.fit(x_train, y_train)\n",
    "print(search_params1.best_params_) # найдем параметры для лучшего дерева"
   ]
  },
  {
   "cell_type": "code",
   "execution_count": 73,
   "metadata": {
    "collapsed": false
   },
   "outputs": [
    {
     "name": "stdout",
     "output_type": "stream",
     "text": [
      "             precision    recall  f1-score   support\n",
      "\n",
      "          0       0.89      0.83      0.86       171\n",
      "          1       0.73      0.82      0.78        97\n",
      "\n",
      "avg / total       0.84      0.83      0.83       268\n",
      "\n"
     ]
    }
   ],
   "source": [
    "trees = RandomForestClassifier(n_estimators = 27)\n",
    "trees.fit(x_train, y_train)\n",
    "est_predict = trees.predict(x_test)\n",
    "print(classification_report(y_test, est_predict))"
   ]
  },
  {
   "cell_type": "markdown",
   "metadata": {},
   "source": [
    "Лес получился чуть лучше, чем дерево"
   ]
  },
  {
   "cell_type": "code",
   "execution_count": null,
   "metadata": {
    "collapsed": true
   },
   "outputs": [],
   "source": []
  },
  {
   "cell_type": "code",
   "execution_count": null,
   "metadata": {
    "collapsed": true
   },
   "outputs": [],
   "source": []
  },
  {
   "cell_type": "code",
   "execution_count": null,
   "metadata": {
    "collapsed": true
   },
   "outputs": [],
   "source": []
  },
  {
   "cell_type": "code",
   "execution_count": null,
   "metadata": {
    "collapsed": true
   },
   "outputs": [],
   "source": []
  }
 ],
 "metadata": {
  "kernelspec": {
   "display_name": "Python 3",
   "language": "python",
   "name": "python3"
  },
  "language_info": {
   "codemirror_mode": {
    "name": "ipython",
    "version": 3
   },
   "file_extension": ".py",
   "mimetype": "text/x-python",
   "name": "python",
   "nbconvert_exporter": "python",
   "pygments_lexer": "ipython3",
   "version": "3.6.0"
  }
 },
 "nbformat": 4,
 "nbformat_minor": 2
}
