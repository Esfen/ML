{
 "cells": [
  {
   "cell_type": "code",
   "execution_count": 48,
   "metadata": {
    "collapsed": false
   },
   "outputs": [
    {
     "data": {
      "text/html": [
       "<div>\n",
       "<table border=\"1\" class=\"dataframe\">\n",
       "  <thead>\n",
       "    <tr style=\"text-align: right;\">\n",
       "      <th></th>\n",
       "      <th>label</th>\n",
       "      <th>message</th>\n",
       "    </tr>\n",
       "  </thead>\n",
       "  <tbody>\n",
       "    <tr>\n",
       "      <th>0</th>\n",
       "      <td>ham</td>\n",
       "      <td>Go until jurong point, crazy.. Available only ...</td>\n",
       "    </tr>\n",
       "    <tr>\n",
       "      <th>1</th>\n",
       "      <td>ham</td>\n",
       "      <td>Ok lar... Joking wif u oni...</td>\n",
       "    </tr>\n",
       "    <tr>\n",
       "      <th>2</th>\n",
       "      <td>spam</td>\n",
       "      <td>Free entry in 2 a wkly comp to win FA Cup fina...</td>\n",
       "    </tr>\n",
       "    <tr>\n",
       "      <th>3</th>\n",
       "      <td>ham</td>\n",
       "      <td>U dun say so early hor... U c already then say...</td>\n",
       "    </tr>\n",
       "    <tr>\n",
       "      <th>4</th>\n",
       "      <td>ham</td>\n",
       "      <td>Nah I don't think he goes to usf, he lives aro...</td>\n",
       "    </tr>\n",
       "  </tbody>\n",
       "</table>\n",
       "</div>"
      ],
      "text/plain": [
       "  label                                            message\n",
       "0   ham  Go until jurong point, crazy.. Available only ...\n",
       "1   ham                      Ok lar... Joking wif u oni...\n",
       "2  spam  Free entry in 2 a wkly comp to win FA Cup fina...\n",
       "3   ham  U dun say so early hor... U c already then say...\n",
       "4   ham  Nah I don't think he goes to usf, he lives aro..."
      ]
     },
     "execution_count": 48,
     "metadata": {},
     "output_type": "execute_result"
    }
   ],
   "source": [
    "import codecs\n",
    "import numpy as np\n",
    "import pandas as pd\n",
    "import re\n",
    "\n",
    "from nltk import word_tokenize\n",
    "from nltk.corpus import stopwords\n",
    "from nltk.tokenize import wordpunct_tokenize\n",
    "from nltk.stem import * \n",
    "from nltk.stem.snowball import SnowballStemmer \n",
    "from nltk.stem import WordNetLemmatizer\n",
    "\n",
    "\n",
    "from sklearn.feature_extraction.text import CountVectorizer, TfidfTransformer\n",
    "from sklearn.naive_bayes import MultinomialNB\n",
    "from sklearn.metrics import classification_report, f1_score, accuracy_score, confusion_matrix\n",
    "from sklearn.pipeline import Pipeline\n",
    "from sklearn.model_selection import StratifiedKFold, cross_val_score, train_test_split\n",
    "from sklearn.dummy import DummyClassifier\n",
    "from sklearn.feature_extraction.text import CountVectorizer, TfidfVectorizer\n",
    "from sklearn import svm, datasets, tree\n",
    "from sklearn.metrics import confusion_matrix\n",
    "from sklearn.linear_model import LogisticRegression\n",
    "from sklearn.tree import DecisionTreeClassifier, export_graphviz\n",
    "from sklearn.ensemble import RandomForestClassifier\n",
    "\n",
    "import matplotlib.pyplot as plt\n",
    "%matplotlib inline\n",
    "\n",
    "df = pd.read_csv('C:\\\\SMSSpamCollection.csv',  sep='\\t', names=[\"label\", \"message\"])\n",
    "df.head()"
   ]
  },
  {
   "cell_type": "code",
   "execution_count": 7,
   "metadata": {
    "collapsed": false
   },
   "outputs": [
    {
     "data": {
      "text/html": [
       "<div>\n",
       "<table border=\"1\" class=\"dataframe\">\n",
       "  <thead>\n",
       "    <tr style=\"text-align: right;\">\n",
       "      <th></th>\n",
       "      <th></th>\n",
       "      <th>message</th>\n",
       "    </tr>\n",
       "    <tr>\n",
       "      <th>label</th>\n",
       "      <th></th>\n",
       "      <th></th>\n",
       "    </tr>\n",
       "  </thead>\n",
       "  <tbody>\n",
       "    <tr>\n",
       "      <th rowspan=\"4\" valign=\"top\">ham</th>\n",
       "      <th>count</th>\n",
       "      <td>4825</td>\n",
       "    </tr>\n",
       "    <tr>\n",
       "      <th>unique</th>\n",
       "      <td>4516</td>\n",
       "    </tr>\n",
       "    <tr>\n",
       "      <th>top</th>\n",
       "      <td>Sorry, I'll call later</td>\n",
       "    </tr>\n",
       "    <tr>\n",
       "      <th>freq</th>\n",
       "      <td>30</td>\n",
       "    </tr>\n",
       "    <tr>\n",
       "      <th rowspan=\"4\" valign=\"top\">spam</th>\n",
       "      <th>count</th>\n",
       "      <td>747</td>\n",
       "    </tr>\n",
       "    <tr>\n",
       "      <th>unique</th>\n",
       "      <td>653</td>\n",
       "    </tr>\n",
       "    <tr>\n",
       "      <th>top</th>\n",
       "      <td>Please call our customer service representativ...</td>\n",
       "    </tr>\n",
       "    <tr>\n",
       "      <th>freq</th>\n",
       "      <td>4</td>\n",
       "    </tr>\n",
       "  </tbody>\n",
       "</table>\n",
       "</div>"
      ],
      "text/plain": [
       "                                                        message\n",
       "label                                                          \n",
       "ham   count                                                4825\n",
       "      unique                                               4516\n",
       "      top                                Sorry, I'll call later\n",
       "      freq                                                   30\n",
       "spam  count                                                 747\n",
       "      unique                                                653\n",
       "      top     Please call our customer service representativ...\n",
       "      freq                                                    4"
      ]
     },
     "execution_count": 7,
     "metadata": {},
     "output_type": "execute_result"
    }
   ],
   "source": [
    "df.groupby('label').describe()"
   ]
  },
  {
   "cell_type": "markdown",
   "metadata": {},
   "source": [
    "Отсюда видно, что ham намного более частотный, чем spam. Значит выборка не сбалансирована и с этим надо что-то делать."
   ]
  },
  {
   "cell_type": "code",
   "execution_count": 34,
   "metadata": {
    "collapsed": true
   },
   "outputs": [],
   "source": [
    "#data1 = df[[\"label\", \"message\"]] \n",
    "spam = df[df['label'] == 'spam']\n",
    "ham = df[df['label'] == 'ham']\n",
    "\n",
    "spam_data = []\n",
    "ham_data = []\n",
    "\n",
    "for i in spam.stack().value_counts(): \n",
    "    spam_data.append(i)\n",
    "for i in ham.stack().value_counts():\n",
    "    ham_data.append(i)"
   ]
  },
  {
   "cell_type": "code",
   "execution_count": 39,
   "metadata": {
    "collapsed": false
   },
   "outputs": [
    {
     "data": {
      "text/html": [
       "<div>\n",
       "<table border=\"1\" class=\"dataframe\">\n",
       "  <thead>\n",
       "    <tr style=\"text-align: right;\">\n",
       "      <th></th>\n",
       "      <th></th>\n",
       "      <th>message</th>\n",
       "    </tr>\n",
       "    <tr>\n",
       "      <th>label</th>\n",
       "      <th></th>\n",
       "      <th></th>\n",
       "    </tr>\n",
       "  </thead>\n",
       "  <tbody>\n",
       "    <tr>\n",
       "      <th rowspan=\"4\" valign=\"top\">ham</th>\n",
       "      <th>count</th>\n",
       "      <td>300</td>\n",
       "    </tr>\n",
       "    <tr>\n",
       "      <th>unique</th>\n",
       "      <td>294</td>\n",
       "    </tr>\n",
       "    <tr>\n",
       "      <th>top</th>\n",
       "      <td>Sorry, I'll call later</td>\n",
       "    </tr>\n",
       "    <tr>\n",
       "      <th>freq</th>\n",
       "      <td>3</td>\n",
       "    </tr>\n",
       "    <tr>\n",
       "      <th rowspan=\"4\" valign=\"top\">spam</th>\n",
       "      <th>count</th>\n",
       "      <td>300</td>\n",
       "    </tr>\n",
       "    <tr>\n",
       "      <th>unique</th>\n",
       "      <td>286</td>\n",
       "    </tr>\n",
       "    <tr>\n",
       "      <th>top</th>\n",
       "      <td>Congratulations ur awarded 500 of CD vouchers ...</td>\n",
       "    </tr>\n",
       "    <tr>\n",
       "      <th>freq</th>\n",
       "      <td>2</td>\n",
       "    </tr>\n",
       "  </tbody>\n",
       "</table>\n",
       "</div>"
      ],
      "text/plain": [
       "                                                        message\n",
       "label                                                          \n",
       "ham   count                                                 300\n",
       "      unique                                                294\n",
       "      top                                Sorry, I'll call later\n",
       "      freq                                                    3\n",
       "spam  count                                                 300\n",
       "      unique                                                286\n",
       "      top     Congratulations ur awarded 500 of CD vouchers ...\n",
       "      freq                                                    2"
      ]
     },
     "execution_count": 39,
     "metadata": {},
     "output_type": "execute_result"
    }
   ],
   "source": [
    "train_set = pd.concat([spam[:300], ham[:300]], ignore_index = True)\n",
    "test_set = pd.concat([spam[400:500], ham[400:500]], ignore_index = True)\n",
    "\n",
    "x_train = list(train_set['message'])\n",
    "y_train = np.array(train_set['label'])\n",
    "x_test = list(test_set['message'])\n",
    "y_test = np.array(test_set['label'])\n",
    "\n",
    "train_set.groupby('label').describe()"
   ]
  },
  {
   "cell_type": "code",
   "execution_count": 40,
   "metadata": {
    "collapsed": true
   },
   "outputs": [],
   "source": [
    "def plot_confusion_matrix(cm, classes, #Функция из документации sklearn\n",
    "                          normalize=False,\n",
    "                          title='Confusion matrix',\n",
    "                          cmap=plt.cm.Blues):\n",
    "    \"\"\"\n",
    "    This function prints and plots the confusion matrix.\n",
    "    Normalization can be applied by setting `normalize=True`.\n",
    "    \"\"\"\n",
    "    plt.imshow(cm, interpolation='nearest', cmap=cmap)\n",
    "    plt.title(title)\n",
    "    plt.colorbar()\n",
    "    tick_marks = np.arange(len(classes))\n",
    "    plt.xticks(tick_marks, classes, rotation=45)\n",
    "    plt.yticks(tick_marks, classes)\n",
    "\n",
    "    if normalize:\n",
    "        cm = cm.astype('float') / cm.sum(axis=1)[:, np.newaxis]\n",
    "        print(\"Normalized confusion matrix\")\n",
    "    else:\n",
    "        print('Confusion matrix, without normalization')\n",
    "\n",
    "    print(cm)\n",
    "\n",
    "    thresh = cm.max() / 2.\n",
    "    \n"
   ]
  },
  {
   "cell_type": "code",
   "execution_count": 42,
   "metadata": {
    "collapsed": false
   },
   "outputs": [
    {
     "name": "stdout",
     "output_type": "stream",
     "text": [
      "Count Vectorizer\n",
      "             precision    recall  f1-score   support\n",
      "\n",
      "        ham       0.47      0.54      0.50       100\n",
      "       spam       0.45      0.38      0.41       100\n",
      "\n",
      "avg / total       0.46      0.46      0.46       200\n",
      "\n",
      "Confusion matrix, without normalization\n",
      "[[54 46]\n",
      " [62 38]]\n",
      "Tf-idf\n",
      "             precision    recall  f1-score   support\n",
      "\n",
      "        ham       0.48      0.50      0.49       100\n",
      "       spam       0.48      0.46      0.47       100\n",
      "\n",
      "avg / total       0.48      0.48      0.48       200\n",
      "\n",
      "Confusion matrix, without normalization\n",
      "[[50 50]\n",
      " [54 46]]\n"
     ]
    },
    {
     "data": {
      "image/png": "[encoded data removed]",
      "text/plain": [
       "<matplotlib.figure.Figure at 0xba7648cb00>"
      ]
     },
     "metadata": {},
     "output_type": "display_data"
    },
    {
     "data": {
      "image/png": "[encoded data removed]",
      "text/plain": [
       "<matplotlib.figure.Figure at 0xba76738cc0>"
      ]
     },
     "metadata": {},
     "output_type": "display_data"
    }
   ],
   "source": [
    "def tokenize(text):\n",
    "    text = text.lower()\n",
    "    return word_tokenize(text)\n",
    "\n",
    "def tokenize_wo_punkt(text): #Токенизация без пунктуации\n",
    "    return word_tokenize(re.sub(\"[.,!?\\(\\)\\-\\:\\;\\'\\\"]\", \"\", text.lower()))\n",
    "\n",
    "def nb_classif(bow): # Бейслайн\n",
    "    nb_model = DummyClassifier()  # <----\n",
    "    b_train = bow.fit_transform(x_train) \n",
    "    nb_model.fit(b_train, y_train)\n",
    "    b_test = bow.transform(x_test)\n",
    "    predict = nb_model.predict(b_test)\n",
    "    matrix = confusion_matrix(y_test, predict)\n",
    "#    print(\"\\n\", vect_type, m_type)\n",
    "    print(classification_report(y_test, predict, target_names=['ham', 'spam']))\n",
    "    plt.figure()\n",
    "#    print(\"\\n\", vect_type, m_type)\n",
    "    plot_confusion_matrix(matrix, classes=['ham', 'spam'])\n",
    "    \n",
    "bow = CountVectorizer(analyzer=tokenize_wo_punkt)\n",
    "print ('Count Vectorizer')\n",
    "nb_classif(bow)\n",
    "bow = TfidfVectorizer(analyzer=tokenize_wo_punkt)\n",
    "print('Tf-idf')\n",
    "nb_classif(bow)"
   ]
  },
  {
   "cell_type": "code",
   "execution_count": null,
   "metadata": {
    "collapsed": false
   },
   "outputs": [],
   "source": []
  },
  {
   "cell_type": "code",
   "execution_count": 44,
   "metadata": {
    "collapsed": false
   },
   "outputs": [
    {
     "name": "stdout",
     "output_type": "stream",
     "text": [
      "Count Vectorizer\n",
      "             precision    recall  f1-score   support\n",
      "\n",
      "        ham       0.92      0.92      0.92       100\n",
      "       spam       0.92      0.92      0.92       100\n",
      "\n",
      "avg / total       0.92      0.92      0.92       200\n",
      "\n",
      "Confusion matrix, without normalization\n",
      "[[92  8]\n",
      " [ 8 92]]\n",
      "Tf-idf\n",
      "             precision    recall  f1-score   support\n",
      "\n",
      "        ham       0.93      0.93      0.93       100\n",
      "       spam       0.93      0.93      0.93       100\n",
      "\n",
      "avg / total       0.93      0.93      0.93       200\n",
      "\n",
      "Confusion matrix, without normalization\n",
      "[[93  7]\n",
      " [ 7 93]]\n"
     ]
    },
    {
     "data": {
      "image/png": "[encoded data removed]",
      "text/plain": [
       "<matplotlib.figure.Figure at 0xba764651d0>"
      ]
     },
     "metadata": {},
     "output_type": "display_data"
    },
    {
     "data": {
      "image/png": "[encoded data removed]",
      "text/plain": [
       "<matplotlib.figure.Figure at 0xba77f77b70>"
      ]
     },
     "metadata": {},
     "output_type": "display_data"
    }
   ],
   "source": [
    "def tokenize(text):\n",
    "    text = text.lower()\n",
    "    return word_tokenize(text)\n",
    "\n",
    "def tokenize_wo_punkt(text): # Токенизация без пунктуации\n",
    "    return word_tokenize(re.sub(\"[.,!?\\(\\)\\-\\:\\;\\'\\\"]\", \"\", text.lower()))\n",
    "\n",
    "def nb_classif(bow): # Наивный Байес\n",
    "    nb_model = MultinomialNB()  # <----\n",
    "    b_train = bow.fit_transform(x_train) \n",
    "    nb_model.fit(b_train, y_train)\n",
    "    b_test = bow.transform(x_test)\n",
    "    predict = nb_model.predict(b_test)\n",
    "    matrix = confusion_matrix(y_test, predict)\n",
    "#    print(\"\\n\", vect_type, m_type)\n",
    "    print(classification_report(y_test, predict, target_names=['ham', 'spam']))\n",
    "    plt.figure()\n",
    "#    print(\"\\n\", vect_type, m_type)\n",
    "    plot_confusion_matrix(matrix, classes=['ham', 'spam'])\n",
    "    \n",
    "bow = CountVectorizer(analyzer=tokenize_wo_punkt)\n",
    "print ('Count Vectorizer')\n",
    "nb_classif(bow)\n",
    "bow = TfidfVectorizer(analyzer=tokenize_wo_punkt)\n",
    "print('Tf-idf')\n",
    "nb_classif(bow)"
   ]
  },
  {
   "cell_type": "code",
   "execution_count": 46,
   "metadata": {
    "collapsed": false
   },
   "outputs": [
    {
     "name": "stdout",
     "output_type": "stream",
     "text": [
      "Count Vectorizer\n",
      "             precision    recall  f1-score   support\n",
      "\n",
      "        ham       0.95      0.96      0.96       100\n",
      "       spam       0.96      0.95      0.95       100\n",
      "\n",
      "avg / total       0.96      0.95      0.95       200\n",
      "\n",
      "Confusion matrix, without normalization\n",
      "[[96  4]\n",
      " [ 5 95]]\n",
      "Tf-idf\n",
      "             precision    recall  f1-score   support\n",
      "\n",
      "        ham       0.94      0.95      0.95       100\n",
      "       spam       0.95      0.94      0.94       100\n",
      "\n",
      "avg / total       0.95      0.94      0.94       200\n",
      "\n",
      "Confusion matrix, without normalization\n",
      "[[95  5]\n",
      " [ 6 94]]\n"
     ]
    },
    {
     "data": {
      "image/png": "[encoded data removed]",
      "text/plain": [
       "<matplotlib.figure.Figure at 0xba76465a58>"
      ]
     },
     "metadata": {},
     "output_type": "display_data"
    },
    {
     "data": {
      "image/png": "[encoded data removed]",
      "text/plain": [
       "<matplotlib.figure.Figure at 0xba76465320>"
      ]
     },
     "metadata": {},
     "output_type": "display_data"
    }
   ],
   "source": [
    "def tokenize_w_punkt(text): # Токенизация с пунктуацией\n",
    "    return wordpunct_tokenize(text.lower()) \n",
    "\n",
    "bow = CountVectorizer(analyzer=tokenize_w_punkt)\n",
    "print ('Count Vectorizer')\n",
    "nb_classif(bow)\n",
    "bow = TfidfVectorizer(analyzer=tokenize_w_punkt)\n",
    "print('Tf-idf')\n",
    "nb_classif(bow)"
   ]
  },
  {
   "cell_type": "code",
   "execution_count": 49,
   "metadata": {
    "collapsed": false
   },
   "outputs": [
    {
     "name": "stdout",
     "output_type": "stream",
     "text": [
      "Count Vectorizer\n",
      "             precision    recall  f1-score   support\n",
      "\n",
      "        ham       0.83      0.98      0.90       100\n",
      "       spam       0.98      0.80      0.88       100\n",
      "\n",
      "avg / total       0.90      0.89      0.89       200\n",
      "\n",
      "Confusion matrix, without normalization\n",
      "[[98  2]\n",
      " [20 80]]\n",
      "Tf-idf\n",
      "             precision    recall  f1-score   support\n",
      "\n",
      "        ham       0.84      0.98      0.91       100\n",
      "       spam       0.98      0.82      0.89       100\n",
      "\n",
      "avg / total       0.91      0.90      0.90       200\n",
      "\n",
      "Confusion matrix, without normalization\n",
      "[[98  2]\n",
      " [18 82]]\n"
     ]
    },
    {
     "data": {
      "image/png": "[encoded data removed]",
      "text/plain": [
       "<matplotlib.figure.Figure at 0xba76800c50>"
      ]
     },
     "metadata": {},
     "output_type": "display_data"
    },
    {
     "data": {
      "image/png": "[encoded data removed]",
      "text/plain": [
       "<matplotlib.figure.Figure at 0xba765f9b70>"
      ]
     },
     "metadata": {},
     "output_type": "display_data"
    }
   ],
   "source": [
    "def tokenize(text):\n",
    "    text = text.lower()\n",
    "    return word_tokenize(text)\n",
    "\n",
    "def tokenize_wo_punkt(text): # Токенизация без пунктуации\n",
    "    return word_tokenize(re.sub(\"[.,!?\\(\\)\\-\\:\\;\\'\\\"]\", \"\", text.lower()))\n",
    "\n",
    "def nb_classif(bow): # Лес\n",
    "    nb_model = RandomForestClassifier()  # <----\n",
    "    b_train = bow.fit_transform(x_train) \n",
    "    nb_model.fit(b_train, y_train)\n",
    "    b_test = bow.transform(x_test)\n",
    "    predict = nb_model.predict(b_test)\n",
    "    matrix = confusion_matrix(y_test, predict)\n",
    "#    print(\"\\n\", vect_type, m_type)\n",
    "    print(classification_report(y_test, predict, target_names=['ham', 'spam']))\n",
    "    plt.figure()\n",
    "#    print(\"\\n\", vect_type, m_type)\n",
    "    plot_confusion_matrix(matrix, classes=['ham', 'spam'])\n",
    "    \n",
    "bow = CountVectorizer(analyzer=tokenize_wo_punkt)\n",
    "print ('Count Vectorizer')\n",
    "nb_classif(bow)\n",
    "bow = TfidfVectorizer(analyzer=tokenize_wo_punkt)\n",
    "print('Tf-idf')\n",
    "nb_classif(bow)"
   ]
  },
  {
   "cell_type": "code",
   "execution_count": 50,
   "metadata": {
    "collapsed": false
   },
   "outputs": [
    {
     "name": "stdout",
     "output_type": "stream",
     "text": [
      "Count Vectorizer\n",
      "             precision    recall  f1-score   support\n",
      "\n",
      "        ham       0.91      0.98      0.94       100\n",
      "       spam       0.98      0.90      0.94       100\n",
      "\n",
      "avg / total       0.94      0.94      0.94       200\n",
      "\n",
      "Confusion matrix, without normalization\n",
      "[[98  2]\n",
      " [10 90]]\n",
      "Tf-idf\n",
      "             precision    recall  f1-score   support\n",
      "\n",
      "        ham       0.89      0.96      0.92       100\n",
      "       spam       0.96      0.88      0.92       100\n",
      "\n",
      "avg / total       0.92      0.92      0.92       200\n",
      "\n",
      "Confusion matrix, without normalization\n",
      "[[96  4]\n",
      " [12 88]]\n"
     ]
    },
    {
     "data": {
      "image/png": "[encoded data removed]",
      "text/plain": [
       "<matplotlib.figure.Figure at 0xba765bff98>"
      ]
     },
     "metadata": {},
     "output_type": "display_data"
    },
    {
     "data": {
      "image/png": "[encoded data removed]",
      "text/plain": [
       "<matplotlib.figure.Figure at 0xba760ef1d0>"
      ]
     },
     "metadata": {},
     "output_type": "display_data"
    }
   ],
   "source": [
    "def tokenize_w_punkt(text): # Токенизация с пунктуацией\n",
    "    return wordpunct_tokenize(text.lower()) \n",
    "\n",
    "bow = CountVectorizer(analyzer=tokenize_w_punkt)\n",
    "print ('Count Vectorizer')\n",
    "nb_classif(bow)\n",
    "bow = TfidfVectorizer(analyzer=tokenize_w_punkt)\n",
    "print('Tf-idf')\n",
    "nb_classif(bow)"
   ]
  },
  {
   "cell_type": "markdown",
   "metadata": {},
   "source": [
    "Получается, что лучший результат для байесовского классификатора при CountVectorizer и выделением знаков препинания в отдельные токены "
   ]
  }
 ],
 "metadata": {
  "kernelspec": {
   "display_name": "Python 3",
   "language": "python",
   "name": "python3"
  },
  "language_info": {
   "codemirror_mode": {
    "name": "ipython",
    "version": 3
   },
   "file_extension": ".py",
   "mimetype": "text/x-python",
   "name": "python",
   "nbconvert_exporter": "python",
   "pygments_lexer": "ipython3",
   "version": "3.6.0"
  }
 },
 "nbformat": 4,
 "nbformat_minor": 2
}
