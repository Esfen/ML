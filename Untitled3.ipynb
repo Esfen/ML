{
 "cells": [
  {
   "cell_type": "code",
   "execution_count": 18,
   "metadata": {
    "collapsed": false
   },
   "outputs": [],
   "source": [
    "import codecs\n",
    "import numpy as np\n",
    "import pandas as pd\n",
    "import re\n",
    "import os\n",
    "\n",
    "from nltk import word_tokenize\n",
    "from nltk.corpus import stopwords\n",
    "from nltk.tokenize import wordpunct_tokenize\n",
    "from nltk.stem import * \n",
    "from nltk.stem.snowball import SnowballStemmer \n",
    "from nltk.stem import WordNetLemmatizer\n",
    "import nltk.classify.util\n",
    "from nltk.classify import NaiveBayesClassifier\n",
    "\n",
    "from sklearn.feature_extraction.text import CountVectorizer, TfidfTransformer\n",
    "from sklearn.naive_bayes import MultinomialNB\n",
    "from sklearn.metrics import classification_report, f1_score, accuracy_score, confusion_matrix\n",
    "from sklearn.pipeline import Pipeline\n",
    "from sklearn.model_selection import StratifiedKFold, cross_val_score, train_test_split\n",
    "from sklearn.dummy import DummyClassifier\n",
    "from sklearn.feature_extraction.text import CountVectorizer, TfidfVectorizer\n",
    "from sklearn import svm, datasets, tree\n",
    "from sklearn.metrics import confusion_matrix\n",
    "from sklearn.linear_model import LogisticRegression\n",
    "\n",
    "import matplotlib.pyplot as plt\n",
    "%matplotlib inline\n",
    "\n",
    "df = pd.read_csv('D:\\\\Internet.csv')\n",
    "df.head()\n",
    "data1 = df[[\"Sent\", \"Eval\"]] \n",
    "som = data1[data1['Eval'] == 'som']\n",
    "pos = data1[data1['Eval'] == 'pos']\n",
    "neg = data1[data1['Eval'] == 'neg']\n",
    "data1.groupby('Eval').describe()\n",
    "\n",
    "som_data = []\n",
    "pos_data = []\n",
    "neg_data = []\n",
    "\n",
    "for i in som.stack().value_counts(): \n",
    "    som_data.append(i)\n",
    "for i in pos.stack().value_counts():\n",
    "    pos_data.append(i)\n",
    "for i in neg.stack().value_counts():\n",
    "    neg_data.append(i)\n",
    "#print(\"som\", som.stack().value_counts())\n",
    "#print(\"pos\", pos.stack().value_counts())\n",
    "#print(\"neg\", neg.stack().value_counts())"
   ]
  },
  {
   "cell_type": "code",
   "execution_count": 19,
   "metadata": {
    "collapsed": true
   },
   "outputs": [],
   "source": [
    "train_set = pd.concat([som[:250], pos[:250], neg[:250]], ignore_index = True)\n",
    "test_set = pd.concat([som[251:310], pos[251:310], neg[251:310]], ignore_index = True)\n",
    "train_set.groupby('Eval').describe()\n",
    "\n",
    "x_train = list(train_set['Sent'])\n",
    "y_train = np.array(train_set['Eval'])\n",
    "x_test = list(test_set['Sent'])\n",
    "y_test = np.array(test_set['Eval'])"
   ]
  },
  {
   "cell_type": "code",
   "execution_count": 28,
   "metadata": {
    "collapsed": false
   },
   "outputs": [
    {
     "ename": "AttributeError",
     "evalue": "'DataFrame' object has no attribute 'words'",
     "output_type": "error",
     "traceback": [
      "\u001b[0;31m---------------------------------------------------------------------------\u001b[0m",
      "\u001b[0;31mAttributeError\u001b[0m                            Traceback (most recent call last)",
      "\u001b[0;32m<ipython-input-28-8e0ee36033ed>\u001b[0m in \u001b[0;36m<module>\u001b[0;34m()\u001b[0m\n\u001b[1;32m      6\u001b[0m \u001b[0mnegids\u001b[0m \u001b[1;33m=\u001b[0m \u001b[0mdata1\u001b[0m\u001b[1;33m[\u001b[0m\u001b[0mdata1\u001b[0m\u001b[1;33m[\u001b[0m\u001b[1;34m'Eval'\u001b[0m\u001b[1;33m]\u001b[0m \u001b[1;33m==\u001b[0m \u001b[1;34m'neg'\u001b[0m\u001b[1;33m]\u001b[0m\u001b[1;33m\u001b[0m\u001b[0m\n\u001b[1;32m      7\u001b[0m \u001b[1;33m\u001b[0m\u001b[0m\n\u001b[0;32m----> 8\u001b[0;31m \u001b[0mnegfeats\u001b[0m \u001b[1;33m=\u001b[0m \u001b[1;33m[\u001b[0m\u001b[1;33m(\u001b[0m\u001b[0mword_feats\u001b[0m\u001b[1;33m(\u001b[0m\u001b[0mdf\u001b[0m\u001b[1;33m.\u001b[0m\u001b[0mwords\u001b[0m\u001b[1;33m(\u001b[0m\u001b[0mfileids\u001b[0m\u001b[1;33m=\u001b[0m\u001b[1;33m[\u001b[0m\u001b[0mf\u001b[0m\u001b[1;33m]\u001b[0m\u001b[1;33m)\u001b[0m\u001b[1;33m)\u001b[0m\u001b[1;33m,\u001b[0m \u001b[1;34m'neg'\u001b[0m\u001b[1;33m)\u001b[0m \u001b[1;32mfor\u001b[0m \u001b[0mf\u001b[0m \u001b[1;32min\u001b[0m \u001b[0mnegids\u001b[0m\u001b[1;33m]\u001b[0m\u001b[1;33m\u001b[0m\u001b[0m\n\u001b[0m\u001b[1;32m      9\u001b[0m \u001b[0mposfeats\u001b[0m \u001b[1;33m=\u001b[0m \u001b[1;33m[\u001b[0m\u001b[1;33m(\u001b[0m\u001b[0mword_feats\u001b[0m\u001b[1;33m(\u001b[0m\u001b[0mdf\u001b[0m\u001b[1;33m.\u001b[0m\u001b[0mwords\u001b[0m\u001b[1;33m(\u001b[0m\u001b[0mfileids\u001b[0m\u001b[1;33m=\u001b[0m\u001b[1;33m[\u001b[0m\u001b[0mf\u001b[0m\u001b[1;33m]\u001b[0m\u001b[1;33m)\u001b[0m\u001b[1;33m)\u001b[0m\u001b[1;33m,\u001b[0m \u001b[1;34m'pos'\u001b[0m\u001b[1;33m)\u001b[0m \u001b[1;32mfor\u001b[0m \u001b[0mf\u001b[0m \u001b[1;32min\u001b[0m \u001b[0mposids\u001b[0m\u001b[1;33m]\u001b[0m\u001b[1;33m\u001b[0m\u001b[0m\n\u001b[1;32m     10\u001b[0m \u001b[1;33m\u001b[0m\u001b[0m\n",
      "\u001b[0;32m<ipython-input-28-8e0ee36033ed>\u001b[0m in \u001b[0;36m<listcomp>\u001b[0;34m(.0)\u001b[0m\n\u001b[1;32m      6\u001b[0m \u001b[0mnegids\u001b[0m \u001b[1;33m=\u001b[0m \u001b[0mdata1\u001b[0m\u001b[1;33m[\u001b[0m\u001b[0mdata1\u001b[0m\u001b[1;33m[\u001b[0m\u001b[1;34m'Eval'\u001b[0m\u001b[1;33m]\u001b[0m \u001b[1;33m==\u001b[0m \u001b[1;34m'neg'\u001b[0m\u001b[1;33m]\u001b[0m\u001b[1;33m\u001b[0m\u001b[0m\n\u001b[1;32m      7\u001b[0m \u001b[1;33m\u001b[0m\u001b[0m\n\u001b[0;32m----> 8\u001b[0;31m \u001b[0mnegfeats\u001b[0m \u001b[1;33m=\u001b[0m \u001b[1;33m[\u001b[0m\u001b[1;33m(\u001b[0m\u001b[0mword_feats\u001b[0m\u001b[1;33m(\u001b[0m\u001b[0mdf\u001b[0m\u001b[1;33m.\u001b[0m\u001b[0mwords\u001b[0m\u001b[1;33m(\u001b[0m\u001b[0mfileids\u001b[0m\u001b[1;33m=\u001b[0m\u001b[1;33m[\u001b[0m\u001b[0mf\u001b[0m\u001b[1;33m]\u001b[0m\u001b[1;33m)\u001b[0m\u001b[1;33m)\u001b[0m\u001b[1;33m,\u001b[0m \u001b[1;34m'neg'\u001b[0m\u001b[1;33m)\u001b[0m \u001b[1;32mfor\u001b[0m \u001b[0mf\u001b[0m \u001b[1;32min\u001b[0m \u001b[0mnegids\u001b[0m\u001b[1;33m]\u001b[0m\u001b[1;33m\u001b[0m\u001b[0m\n\u001b[0m\u001b[1;32m      9\u001b[0m \u001b[0mposfeats\u001b[0m \u001b[1;33m=\u001b[0m \u001b[1;33m[\u001b[0m\u001b[1;33m(\u001b[0m\u001b[0mword_feats\u001b[0m\u001b[1;33m(\u001b[0m\u001b[0mdf\u001b[0m\u001b[1;33m.\u001b[0m\u001b[0mwords\u001b[0m\u001b[1;33m(\u001b[0m\u001b[0mfileids\u001b[0m\u001b[1;33m=\u001b[0m\u001b[1;33m[\u001b[0m\u001b[0mf\u001b[0m\u001b[1;33m]\u001b[0m\u001b[1;33m)\u001b[0m\u001b[1;33m)\u001b[0m\u001b[1;33m,\u001b[0m \u001b[1;34m'pos'\u001b[0m\u001b[1;33m)\u001b[0m \u001b[1;32mfor\u001b[0m \u001b[0mf\u001b[0m \u001b[1;32min\u001b[0m \u001b[0mposids\u001b[0m\u001b[1;33m]\u001b[0m\u001b[1;33m\u001b[0m\u001b[0m\n\u001b[1;32m     10\u001b[0m \u001b[1;33m\u001b[0m\u001b[0m\n",
      "\u001b[0;32mC:\\Anaconda3\\lib\\site-packages\\pandas\\core\\generic.py\u001b[0m in \u001b[0;36m__getattr__\u001b[0;34m(self, name)\u001b[0m\n\u001b[1;32m   2742\u001b[0m             \u001b[1;32mif\u001b[0m \u001b[0mname\u001b[0m \u001b[1;32min\u001b[0m \u001b[0mself\u001b[0m\u001b[1;33m.\u001b[0m\u001b[0m_info_axis\u001b[0m\u001b[1;33m:\u001b[0m\u001b[1;33m\u001b[0m\u001b[0m\n\u001b[1;32m   2743\u001b[0m                 \u001b[1;32mreturn\u001b[0m \u001b[0mself\u001b[0m\u001b[1;33m[\u001b[0m\u001b[0mname\u001b[0m\u001b[1;33m]\u001b[0m\u001b[1;33m\u001b[0m\u001b[0m\n\u001b[0;32m-> 2744\u001b[0;31m             \u001b[1;32mreturn\u001b[0m \u001b[0mobject\u001b[0m\u001b[1;33m.\u001b[0m\u001b[0m__getattribute__\u001b[0m\u001b[1;33m(\u001b[0m\u001b[0mself\u001b[0m\u001b[1;33m,\u001b[0m \u001b[0mname\u001b[0m\u001b[1;33m)\u001b[0m\u001b[1;33m\u001b[0m\u001b[0m\n\u001b[0m\u001b[1;32m   2745\u001b[0m \u001b[1;33m\u001b[0m\u001b[0m\n\u001b[1;32m   2746\u001b[0m     \u001b[1;32mdef\u001b[0m \u001b[0m__setattr__\u001b[0m\u001b[1;33m(\u001b[0m\u001b[0mself\u001b[0m\u001b[1;33m,\u001b[0m \u001b[0mname\u001b[0m\u001b[1;33m,\u001b[0m \u001b[0mvalue\u001b[0m\u001b[1;33m)\u001b[0m\u001b[1;33m:\u001b[0m\u001b[1;33m\u001b[0m\u001b[0m\n",
      "\u001b[0;31mAttributeError\u001b[0m: 'DataFrame' object has no attribute 'words'"
     ]
    }
   ],
   "source": [
    "def word_feats(words):\n",
    "    return dict([(word, True) for word in words])\n",
    "\n",
    "somids = data1[data1['Eval'] == 'som']\n",
    "posids = data1[data1['Eval'] == 'pos']\n",
    "negids = data1[data1['Eval'] == 'neg']\n",
    " \n",
    "negfeats = [(word_feats(df.words(fileids=[f])), 'neg') for f in negids]\n",
    "posfeats = [(word_feats(df.words(fileids=[f])), 'pos') for f in posids]\n",
    " \n",
    "trainfeats = som[:250] + pos[:250] + neg[:250]\n",
    "testfeats = som[251:310] + pos[251:310] + neg[251:310]\n",
    "\n",
    "classifier = NaiveBayesClassifier.train(trainfeats)\n",
    "print ('accuracy:', nltk.classify.util.accuracy(classifier, testfeats))\n",
    "classifier.show_most_informative_features()"
   ]
  },
  {
   "cell_type": "code",
   "execution_count": 14,
   "metadata": {
    "collapsed": true
   },
   "outputs": [],
   "source": [
    "def plot_confusion_matrix(cm, classes, #Функция из документации sklearn\n",
    "                          normalize=False,\n",
    "                          title='Confusion matrix',\n",
    "                          cmap=plt.cm.Blues):\n",
    "    \"\"\"\n",
    "    This function prints and plots the confusion matrix.\n",
    "    Normalization can be applied by setting `normalize=True`.\n",
    "    \"\"\"\n",
    "    plt.imshow(cm, interpolation='nearest', cmap=cmap)\n",
    "    plt.title(title)\n",
    "    plt.colorbar()\n",
    "    tick_marks = np.arange(len(classes))\n",
    "    plt.xticks(tick_marks, classes, rotation=45)\n",
    "    plt.yticks(tick_marks, classes)\n",
    "\n",
    "    if normalize:\n",
    "        cm = cm.astype('float') / cm.sum(axis=1)[:, np.newaxis]\n",
    "        print(\"Normalized confusion matrix\")\n",
    "    else:\n",
    "        print('Confusion matrix, without normalization')\n",
    "\n",
    "    print(cm)\n",
    "\n",
    "    thresh = cm.max() / 2.\n"
   ]
  },
  {
   "cell_type": "code",
   "execution_count": 29,
   "metadata": {
    "collapsed": false
   },
   "outputs": [
    {
     "name": "stdout",
     "output_type": "stream",
     "text": [
      "Count Vectorizer\n",
      "             precision    recall  f1-score   support\n",
      "\n",
      "        som       0.57      0.66      0.61        59\n",
      "        pos       0.59      0.51      0.55        59\n",
      "        neg       0.60      0.59      0.60        59\n",
      "\n",
      "avg / total       0.59      0.59      0.59       177\n",
      "\n",
      "Confusion matrix, without normalization\n",
      "[[39  8 12]\n",
      " [18 30 11]\n",
      " [11 13 35]]\n",
      "Tf-idf\n",
      "             precision    recall  f1-score   support\n",
      "\n",
      "        som       0.57      0.64      0.60        59\n",
      "        pos       0.57      0.56      0.56        59\n",
      "        neg       0.65      0.58      0.61        59\n",
      "\n",
      "avg / total       0.60      0.59      0.59       177\n",
      "\n",
      "Confusion matrix, without normalization\n",
      "[[38 12  9]\n",
      " [17 33  9]\n",
      " [12 13 34]]\n"
     ]
    },
    {
     "data": {
      "image/png": "[encoded data removed]",
      "text/plain": [
       "<matplotlib.figure.Figure at 0x234d7d51160>"
      ]
     },
     "metadata": {},
     "output_type": "display_data"
    },
    {
     "data": {
      "image/png": "[encoded data removed]",
      "text/plain": [
       "<matplotlib.figure.Figure at 0x234d831b240>"
      ]
     },
     "metadata": {},
     "output_type": "display_data"
    }
   ],
   "source": [
    "def tokenize(text):\n",
    "    text = text.lower()\n",
    "    return word_tokenize(text)\n",
    "\n",
    "def tokenize_wo_punkt(text): #Токенизация без пунктуации\n",
    "    return word_tokenize(re.sub(\"[.,!?\\(\\)\\-\\:\\;\\'\\\"]\", \"\", text.lower())) \n",
    "\n",
    "def nb_classif(bow): #Функция для рассчета по наивному Байесу\n",
    "    nb_model = MultinomialNB()\n",
    "    b_train = bow.fit_transform(x_train) \n",
    "    nb_model.fit(b_train, y_train)\n",
    "    b_test = bow.transform(x_test)\n",
    "    predict = nb_model.predict(b_test)\n",
    "    matrix = confusion_matrix(y_test, predict)\n",
    "#    print(\"\\n\", vect_type, m_type)\n",
    "    print(classification_report(y_test, predict, target_names=['som', 'pos', 'neg']))\n",
    "    plt.figure()\n",
    "#    print(\"\\n\", vect_type, m_type)\n",
    "    plot_confusion_matrix(matrix, classes=['som', 'pos', 'neg'])\n",
    "    \n",
    "bow = CountVectorizer(analyzer=tokenize_wo_punkt)\n",
    "print ('Count Vectorizer')\n",
    "nb_classif(bow)\n",
    "bow = TfidfVectorizer(analyzer=tokenize_wo_punkt)\n",
    "print('Tf-idf')\n",
    "nb_classif(bow)\n"
   ]
  },
  {
   "cell_type": "code",
   "execution_count": null,
   "metadata": {
    "collapsed": true
   },
   "outputs": [],
   "source": []
  },
  {
   "cell_type": "code",
   "execution_count": null,
   "metadata": {
    "collapsed": true
   },
   "outputs": [],
   "source": []
  },
  {
   "cell_type": "code",
   "execution_count": 106,
   "metadata": {
    "collapsed": false
   },
   "outputs": [],
   "source": [
    "def file_names():\n",
    "    path_f = [] \n",
    "    for d, dirs, files in os.walk('d:\\Files_txt'): \n",
    "        for f in files: \n",
    "            path = os.path.join(d,f) # формирование адреса \n",
    "            path_f.append(path) # добавление адреса в список \n",
    "    return(path_f)"
   ]
  },
  {
   "cell_type": "code",
   "execution_count": 107,
   "metadata": {
    "collapsed": true
   },
   "outputs": [],
   "source": [
    "def get_files():\n",
    "    text = ''\n",
    "    for file in file_names():\n",
    "        f = codecs.open(file, 'r', 'utf-8')\n",
    "        for j in f:\n",
    "            text = text + j\n",
    "    return text "
   ]
  },
  {
   "cell_type": "code",
   "execution_count": 108,
   "metadata": {
    "collapsed": true
   },
   "outputs": [],
   "source": [
    "def tokenize_wo_punkt(text): #Токенизация без пунктуации\n",
    "#    text = text.lower()\n",
    "    return word_tokenize(re.sub(\"[.,!?\\(\\)\\-\\:\\;\\'\\\"\\n\\r]\", \"\", text.lower()))"
   ]
  },
  {
   "cell_type": "code",
   "execution_count": 109,
   "metadata": {
    "collapsed": false
   },
   "outputs": [],
   "source": [
    "def i_bigram(input_list):\n",
    "    bigram_list = []    \n",
    "    for i in range(len(input_list)-1):\n",
    "        if re.search(u'интернет', input_list[i]) != None:\n",
    "            bigram_list.append((input_list[i], input_list[i+1]))\n",
    "            bigram_list.append((input_list[i-1], input_list[i]))\n",
    "    return bigram_list"
   ]
  },
  {
   "cell_type": "code",
   "execution_count": 110,
   "metadata": {
    "collapsed": true
   },
   "outputs": [],
   "source": [
    "def bigram(input_list):\n",
    "    bigram_list = []    \n",
    "    for i in range(len(input_list)-1):\n",
    "            bigram_list.append((input_list[i], input_list[i+1]))\n",
    "    return bigram_list"
   ]
  },
  {
   "cell_type": "code",
   "execution_count": 111,
   "metadata": {
    "collapsed": true
   },
   "outputs": [],
   "source": [
    "def sent_split(text):\n",
    "    split = text.split('.')\n",
    "    return(split)   \n",
    "    "
   ]
  },
  {
   "cell_type": "code",
   "execution_count": null,
   "metadata": {
    "collapsed": true
   },
   "outputs": [],
   "source": []
  },
  {
   "cell_type": "code",
   "execution_count": null,
   "metadata": {
    "collapsed": false
   },
   "outputs": [],
   "source": []
  },
  {
   "cell_type": "code",
   "execution_count": null,
   "metadata": {
    "collapsed": false
   },
   "outputs": [],
   "source": [
    "#    get_files()\n",
    "#    text = ''\n",
    "#    f = codecs.open('d:\\\\Texts\\\\Ельцин СОФЬЯ\\\\пиковые дни\\\\15.01.2000\\\\15-18.01.2000, 11-20.txt', 'r', 'utf-8')\n",
    "#    for j in f:\n",
    "#        text = text + j\n",
    "#    text = get_files()\n",
    "#    sent = sent_split(text)\n",
    "#    w = codecs.open('d:\\\\Internet_Sent.csv', 'w', 'utf-8')\n",
    "#    for s in sent:\n",
    "#        if re.search(u'[Ии]нтернет', s) != None:\n",
    "#            print(s)\n",
    "#            w.write(re.sub(\"[.,!?\\(\\)\\-\\:\\;\\'\\\"\\n\\r]\", \"\", s) + ';\\n')\n",
    "    \n",
    "        \n",
    "\n",
    "#    words = tokenize_wo_punkt(text)\n",
    "#    bigrams = bigram(words)\n",
    "#    print(bigrams)\n",
    "#    i_bigrams = i_bigram(words)\n",
    "#    print(i_bigrams)"
   ]
  },
  {
   "cell_type": "markdown",
   "metadata": {
    "collapsed": true
   },
   "source": [
    "Порезать на предложения, разметить, попробовать пообучать\n",
    "Всякие стоп-слова и тп"
   ]
  }
 ],
 "metadata": {
  "kernelspec": {
   "display_name": "Python 3",
   "language": "python",
   "name": "python3"
  },
  "language_info": {
   "codemirror_mode": {
    "name": "ipython",
    "version": 3
   },
   "file_extension": ".py",
   "mimetype": "text/x-python",
   "name": "python",
   "nbconvert_exporter": "python",
   "pygments_lexer": "ipython3",
   "version": "3.6.0"
  }
 },
 "nbformat": 4,
 "nbformat_minor": 2
}
